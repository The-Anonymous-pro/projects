{
 "cells": [
  {
   "cell_type": "markdown",
   "metadata": {},
   "source": [
    "## ASSIGNMENT\n",
    "\n",
    "**Tomiwa Emmanuel O. Am a python programmer and this script will be solving quadratic equations**.  A quadratic equation form is: **(ax² + bx + c = 0)**  which is solved using a quadratic formular:  **(-b +- √(b²-4ac))/2a**  where a, b, c are numbers and **a** is not equals to 0.\n"
   ]
  },
  {
   "cell_type": "code",
   "execution_count": 2,
   "metadata": {},
   "outputs": [
    {
     "name": "stdout",
     "output_type": "stream",
     "text": [
      "Enter a: 3\n",
      "Enter b: 5\n",
      "enter c: 2\n",
      "(-1+0j) (-0.6666666666666666+0j)\n"
     ]
    }
   ],
   "source": [
    "#First we import cmath module\n",
    "\n",
    "import math\n",
    "\n",
    "#Then we allow three(3) float inputs (a,b,c) for the quadratic equation\n",
    "\n",
    "a= float(input(\"Enter a: \"))\n",
    "b= float(input(\"Enter b: \"))\n",
    "c= float(input(\"enter c: \"))\n",
    "\n",
    "#using the quadratic formular -b +- √(b² - 4ac)/2a we calculate x is (b²-4ac)\n",
    "\n",
    "x= b**2 - 4*a*c\n",
    "\n",
    "#since we have x ,we can now find the two solutions to the equation\n",
    "\n",
    "first_sol = (-b - math.sqrt(x)) / (2*a)\n",
    "second_sol = (-b + math.sqrt(x)) / (2*a)\n",
    "\n",
    "#note that we already calculated for x, therefore the first and second solution need only to apply the quardratic formular.\n",
    "\n",
    "print ( first_sol, second_sol )\n",
    "\n",
    "\n"
   ]
  },
  {
   "cell_type": "markdown",
   "metadata": {},
   "source": [
    "## Instructor's Comment\n",
    "> A job welldone bro, keep learning"
   ]
  },
  {
   "cell_type": "code",
   "execution_count": null,
   "metadata": {},
   "outputs": [],
   "source": []
  },
  {
   "cell_type": "code",
   "execution_count": null,
   "metadata": {},
   "outputs": [],
   "source": []
  },
  {
   "cell_type": "code",
   "execution_count": null,
   "metadata": {},
   "outputs": [],
   "source": []
  }
 ],
 "metadata": {
  "kernelspec": {
   "display_name": "Python 3",
   "language": "python",
   "name": "python3"
  },
  "language_info": {
   "codemirror_mode": {
    "name": "ipython",
    "version": 3
   },
   "file_extension": ".py",
   "mimetype": "text/x-python",
   "name": "python",
   "nbconvert_exporter": "python",
   "pygments_lexer": "ipython3",
   "version": "3.8.3"
  }
 },
 "nbformat": 4,
 "nbformat_minor": 4
}
