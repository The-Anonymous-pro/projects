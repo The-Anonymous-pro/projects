{
 "cells": [
  {
   "cell_type": "markdown",
   "metadata": {},
   "source": [
    "## Assignment -- Tomiwa Emmanuel O.\n",
    "\n"
   ]
  },
  {
   "cell_type": "markdown",
   "metadata": {},
   "source": [
    "## Q1. \n",
    " \n",
    "write a program that calculates the shipping cost for total goods bought by a customer. the user gets free shipping if its less than 25 dollars. unit price of shipping is 2 dollars for US & 4 dollars for Europe."
   ]
  },
  {
   "cell_type": "code",
   "execution_count": null,
   "metadata": {},
   "outputs": [],
   "source": [
    "# i dont understand this question. how do we quantify the total goods a customer buys and apply shipping cost if its not availabe\n",
    "\n",
    "\n",
    "US_shipping = 2      # dollars\n",
    "Europe_shipping = 4  # dollars\n",
    "location = input(\"Enter US or Europe: \")\n",
    "\n",
    "    \n",
    "\n",
    "    \n",
    "\n",
    "    \n",
    "\n",
    "\n",
    "\n",
    "\n",
    "\n",
    "\n"
   ]
  },
  {
   "cell_type": "markdown",
   "metadata": {},
   "source": [
    "## Q2.\n",
    "\n",
    "write a program that accepts the age of a user. A user is eligible to vote from 18 above and those under 18 or greater than 100 are not eligible to vote."
   ]
  },
  {
   "cell_type": "code",
   "execution_count": 5,
   "metadata": {},
   "outputs": [
    {
     "name": "stdout",
     "output_type": "stream",
     "text": [
      "Enter your name: Femi\n",
      "Enter your age: 101\n",
      "Femi,  you are not eligible to vote\n"
     ]
    }
   ],
   "source": [
    "# solution\n",
    " # first we allow a user enter his or her name and age\n",
    "users_name = input(\"Enter your name: \")  \n",
    "users_age = float(input(\"Enter your age: \"))\n",
    "\n",
    "# then we set our parameters for being eligible to vote or not be eligible to vote\n",
    "\n",
    "if users_age >= 18 and users_age <= 100:\n",
    "    print(users_name + \", \" +\" you are eligible to vote\")\n",
    "else:\n",
    "    print(users_name + \", \" + \"you are not eligible to vote\")\n",
    "\n",
    "\n"
   ]
  },
  {
   "cell_type": "markdown",
   "metadata": {},
   "source": [
    "### Job well done "
   ]
  },
  {
   "cell_type": "markdown",
   "metadata": {},
   "source": [
    "## Q3.\n",
    "\n",
    "Given an integer n, perform the following conditional statement: if n is \"odd\" print weird, if even & in between 2 to 5 print weird, if n is even & in the range 6 to 20 print weird and if n is even & greater than 20 print not weird\n"
   ]
  },
  {
   "cell_type": "code",
   "execution_count": 3,
   "metadata": {},
   "outputs": [
    {
     "name": "stdout",
     "output_type": "stream",
     "text": [
      "Enter a number: 80\n",
      "This is an even number --NOT WEIRD\n",
      "Enter another number: 7\n",
      "your number is either odd or an even number outside the range 2 to 5\n",
      "Enter another number: 20\n",
      "WEIRD\n",
      "Enter one more number: 20\n",
      "your number is either odd or an even number greater than 20\n"
     ]
    }
   ],
   "source": [
    "#  when a number is divided by two(2) and it gives a remainder of \"0\" its an even number otherwise its an odd number\n",
    "\n",
    "n = int(input(\"Enter a number: \"))\n",
    "\n",
    "# Then we set the parameters\n",
    "\n",
    "# parameter 1:if n is odd print weird\n",
    "if (n % 2) == 0:\n",
    "    print(\"This is an even number --NOT WEIRD\")\n",
    "else:\n",
    "    print(\"WEIRD--This is an odd number\")\n",
    "\n",
    "# parameter 2: if n is even & btween range of 2 to 5 print weird\n",
    "\n",
    "n = int(input(\"Enter another number: \")) # just for more interactivity\n",
    "if (n % 2) == 0 and 2 <= n <= 5:\n",
    "    print(\"WEIRD\")\n",
    "else:\n",
    "    print(\"your number is either odd or an even number outside the range 2 to 5\")\n",
    "\n",
    "# parameter 3:if n is even and in the range 6 to 20 print weird.\n",
    "\n",
    "n= int(input(\"Enter another number: \"))\n",
    "if (n % 2) == 0 and 6 <= n <= 20:\n",
    "    print(\"WEIRD\")\n",
    "else:\n",
    "    print(\"your number is either odd or an even number outside the range 6 to 20\")\n",
    "\n",
    "# parameter 4: if n is even & greater than 20 print not weird\n",
    "\n",
    "n =int(input(\"Enter one more number: \"))\n",
    "if (n % 2) == 0 and n > 20:\n",
    "    print(\"NOT WEIRD\")\n",
    "else:\n",
    "    print(\"your number is either odd or an even number of 20 and bellow\")\n",
    "\n"
   ]
  },
  {
   "cell_type": "markdown",
   "metadata": {},
   "source": [
    "### Welldone bro, but there are other ways to go about it"
   ]
  },
  {
   "cell_type": "code",
   "execution_count": 1,
   "metadata": {},
   "outputs": [
    {
     "name": "stdout",
     "output_type": "stream",
     "text": [
      "I am between 6 and 20\n"
     ]
    }
   ],
   "source": [
    "#6 <= n <= 20 can be written as range(6,20)\n",
    "#example\n",
    "a = 6\n",
    "if a in range(6,20):\n",
    "    print(\"I am between 6 and 20\")\n",
    "    \n",
    "#Kindly check this approach out, it gives you a cleaner code"
   ]
  },
  {
   "cell_type": "code",
   "execution_count": null,
   "metadata": {},
   "outputs": [],
   "source": []
  }
 ],
 "metadata": {
  "kernelspec": {
   "display_name": "Python 3",
   "language": "python",
   "name": "python3"
  },
  "language_info": {
   "codemirror_mode": {
    "name": "ipython",
    "version": 3
   },
   "file_extension": ".py",
   "mimetype": "text/x-python",
   "name": "python",
   "nbconvert_exporter": "python",
   "pygments_lexer": "ipython3",
   "version": "3.8.3"
  }
 },
 "nbformat": 4,
 "nbformat_minor": 4
}
